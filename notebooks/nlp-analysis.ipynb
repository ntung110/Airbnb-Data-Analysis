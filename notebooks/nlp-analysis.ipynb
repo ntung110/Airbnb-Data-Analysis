{
 "cells": [
  {
   "cell_type": "code",
   "execution_count": 1,
   "metadata": {},
   "outputs": [
    {
     "name": "stderr",
     "output_type": "stream",
     "text": [
      "/Users/tung/Repos/Airbnb-Data-Analysis/.venv/lib/python3.9/site-packages/urllib3/__init__.py:35: NotOpenSSLWarning: urllib3 v2 only supports OpenSSL 1.1.1+, currently the 'ssl' module is compiled with 'LibreSSL 2.8.3'. See: https://github.com/urllib3/urllib3/issues/3020\n",
      "  warnings.warn(\n",
      "/Users/tung/Repos/Airbnb-Data-Analysis/.venv/lib/python3.9/site-packages/tqdm/auto.py:21: TqdmWarning: IProgress not found. Please update jupyter and ipywidgets. See https://ipywidgets.readthedocs.io/en/stable/user_install.html\n",
      "  from .autonotebook import tqdm as notebook_tqdm\n"
     ]
    }
   ],
   "source": [
    "import numpy as np\n",
    "import pandas as pd\n",
    "import emot\n",
    "\n",
    "from nltk.corpus import stopwords, words\n",
    "from nltk.tokenize import word_tokenize, sent_tokenize\n",
    "from transformers import AutoModelForSequenceClassification\n",
    "from transformers import AutoTokenizer, AutoConfig\n",
    "from transformers import pipeline\n",
    "from scipy.special import softmax\n",
    "from bertopic import BERTopic\n",
    "\n",
    "pd.set_option('display.max_columns', 0)"
   ]
  },
  {
   "cell_type": "markdown",
   "metadata": {},
   "source": [
    "## Topic Modelling & Sentiment Analysis\n",
    "\n",
    "In this notebook, we will investigate some of the common topics that are mentioned in user comments."
   ]
  },
  {
   "cell_type": "markdown",
   "metadata": {},
   "source": [
    "### Import Dataset\n",
    "\n",
    "We first import the datasets into the notebook"
   ]
  },
  {
   "cell_type": "code",
   "execution_count": 2,
   "metadata": {},
   "outputs": [],
   "source": [
    "# Import datasets\n",
    "df_listings = pd.read_csv('../data/processed/listings_processed.csv', parse_dates = ['host_since', 'first_review', 'last_review'])\n",
    "df_calendar = pd.read_csv('../data/processed/calendar_processed.csv', parse_dates = ['date'])\n",
    "df_reviews = pd.read_csv('../data/processed/reviews_processed.csv', parse_dates = ['date'])"
   ]
  },
  {
   "cell_type": "code",
   "execution_count": 3,
   "metadata": {},
   "outputs": [
    {
     "data": {
      "text/html": [
       "<div>\n",
       "<style scoped>\n",
       "    .dataframe tbody tr th:only-of-type {\n",
       "        vertical-align: middle;\n",
       "    }\n",
       "\n",
       "    .dataframe tbody tr th {\n",
       "        vertical-align: top;\n",
       "    }\n",
       "\n",
       "    .dataframe thead th {\n",
       "        text-align: right;\n",
       "    }\n",
       "</style>\n",
       "<table border=\"1\" class=\"dataframe\">\n",
       "  <thead>\n",
       "    <tr style=\"text-align: right;\">\n",
       "      <th></th>\n",
       "      <th>listing_id</th>\n",
       "      <th>date</th>\n",
       "      <th>reviewer_id</th>\n",
       "      <th>reviewer_name</th>\n",
       "      <th>comments</th>\n",
       "    </tr>\n",
       "  </thead>\n",
       "  <tbody>\n",
       "    <tr>\n",
       "      <th>0</th>\n",
       "      <td>18270</td>\n",
       "      <td>2011-03-17</td>\n",
       "      <td>184985</td>\n",
       "      <td>Matthew</td>\n",
       "      <td>Great place, great location, great host.</td>\n",
       "    </tr>\n",
       "    <tr>\n",
       "      <th>1</th>\n",
       "      <td>13188</td>\n",
       "      <td>2010-02-21</td>\n",
       "      <td>34595</td>\n",
       "      <td>Rebecca</td>\n",
       "      <td>We had a wonderful time! The place is cozy, wa...</td>\n",
       "    </tr>\n",
       "    <tr>\n",
       "      <th>2</th>\n",
       "      <td>13188</td>\n",
       "      <td>2010-08-27</td>\n",
       "      <td>199181</td>\n",
       "      <td>Lillian</td>\n",
       "      <td>What a fabulous home away from home!  The apar...</td>\n",
       "    </tr>\n",
       "    <tr>\n",
       "      <th>3</th>\n",
       "      <td>18270</td>\n",
       "      <td>2011-04-06</td>\n",
       "      <td>99094</td>\n",
       "      <td>Jessica</td>\n",
       "      <td>I had a lovely and  comfortable stay at Ran's....</td>\n",
       "    </tr>\n",
       "    <tr>\n",
       "      <th>4</th>\n",
       "      <td>18270</td>\n",
       "      <td>2011-05-02</td>\n",
       "      <td>434670</td>\n",
       "      <td>Catherine</td>\n",
       "      <td>Nice room, great location and friendly host!</td>\n",
       "    </tr>\n",
       "    <tr>\n",
       "      <th>...</th>\n",
       "      <td>...</td>\n",
       "      <td>...</td>\n",
       "      <td>...</td>\n",
       "      <td>...</td>\n",
       "      <td>...</td>\n",
       "    </tr>\n",
       "    <tr>\n",
       "      <th>272596</th>\n",
       "      <td>1167658394866031187</td>\n",
       "      <td>2024-06-01</td>\n",
       "      <td>75090412</td>\n",
       "      <td>Georgina</td>\n",
       "      <td>Loved the place. Easy to check-in, Driana was ...</td>\n",
       "    </tr>\n",
       "    <tr>\n",
       "      <th>272597</th>\n",
       "      <td>1167658394866031187</td>\n",
       "      <td>2024-06-08</td>\n",
       "      <td>115858985</td>\n",
       "      <td>Jason</td>\n",
       "      <td>Driana and her husband were the ideal hosts!  ...</td>\n",
       "    </tr>\n",
       "    <tr>\n",
       "      <th>272598</th>\n",
       "      <td>1168245100183046449</td>\n",
       "      <td>2024-06-11</td>\n",
       "      <td>62180956</td>\n",
       "      <td>Nathaniel</td>\n",
       "      <td>Javier was extremely hospitable to my family. ...</td>\n",
       "    </tr>\n",
       "    <tr>\n",
       "      <th>272599</th>\n",
       "      <td>1168449186334658361</td>\n",
       "      <td>2024-06-09</td>\n",
       "      <td>42273592</td>\n",
       "      <td>Agi</td>\n",
       "      <td>Wir waren 2 Nächte in das Haus. Wir haben uns ...</td>\n",
       "    </tr>\n",
       "    <tr>\n",
       "      <th>272600</th>\n",
       "      <td>1168810754381060304</td>\n",
       "      <td>2024-06-08</td>\n",
       "      <td>110570876</td>\n",
       "      <td>Moon</td>\n",
       "      <td>I recently had the pleasure of staying at Geni...</td>\n",
       "    </tr>\n",
       "  </tbody>\n",
       "</table>\n",
       "<p>272601 rows × 5 columns</p>\n",
       "</div>"
      ],
      "text/plain": [
       "                 listing_id  ...                                           comments\n",
       "0                     18270  ...           Great place, great location, great host.\n",
       "1                     13188  ...  We had a wonderful time! The place is cozy, wa...\n",
       "2                     13188  ...  What a fabulous home away from home!  The apar...\n",
       "3                     18270  ...  I had a lovely and  comfortable stay at Ran's....\n",
       "4                     18270  ...      Nice room, great location and friendly host! \n",
       "...                     ...  ...                                                ...\n",
       "272596  1167658394866031187  ...  Loved the place. Easy to check-in, Driana was ...\n",
       "272597  1167658394866031187  ...  Driana and her husband were the ideal hosts!  ...\n",
       "272598  1168245100183046449  ...  Javier was extremely hospitable to my family. ...\n",
       "272599  1168449186334658361  ...  Wir waren 2 Nächte in das Haus. Wir haben uns ...\n",
       "272600  1168810754381060304  ...  I recently had the pleasure of staying at Geni...\n",
       "\n",
       "[272601 rows x 5 columns]"
      ]
     },
     "execution_count": 3,
     "metadata": {},
     "output_type": "execute_result"
    }
   ],
   "source": [
    "# Initial check\n",
    "df_reviews"
   ]
  },
  {
   "cell_type": "code",
   "execution_count": 4,
   "metadata": {},
   "outputs": [
    {
     "data": {
      "text/html": [
       "<div>\n",
       "<style scoped>\n",
       "    .dataframe tbody tr th:only-of-type {\n",
       "        vertical-align: middle;\n",
       "    }\n",
       "\n",
       "    .dataframe tbody tr th {\n",
       "        vertical-align: top;\n",
       "    }\n",
       "\n",
       "    .dataframe thead th {\n",
       "        text-align: right;\n",
       "    }\n",
       "</style>\n",
       "<table border=\"1\" class=\"dataframe\">\n",
       "  <thead>\n",
       "    <tr style=\"text-align: right;\">\n",
       "      <th></th>\n",
       "      <th>reviewer_name</th>\n",
       "      <th>comments</th>\n",
       "    </tr>\n",
       "  </thead>\n",
       "  <tbody>\n",
       "    <tr>\n",
       "      <th>count</th>\n",
       "      <td>272600</td>\n",
       "      <td>272560</td>\n",
       "    </tr>\n",
       "    <tr>\n",
       "      <th>unique</th>\n",
       "      <td>43121</td>\n",
       "      <td>265705</td>\n",
       "    </tr>\n",
       "    <tr>\n",
       "      <th>top</th>\n",
       "      <td>David</td>\n",
       "      <td>.</td>\n",
       "    </tr>\n",
       "    <tr>\n",
       "      <th>freq</th>\n",
       "      <td>2053</td>\n",
       "      <td>244</td>\n",
       "    </tr>\n",
       "  </tbody>\n",
       "</table>\n",
       "</div>"
      ],
      "text/plain": [
       "       reviewer_name comments\n",
       "count         272600   272560\n",
       "unique         43121   265705\n",
       "top            David        .\n",
       "freq            2053      244"
      ]
     },
     "execution_count": 4,
     "metadata": {},
     "output_type": "execute_result"
    }
   ],
   "source": [
    "# Summary statistics\n",
    "df_reviews.describe(include = ['O'])"
   ]
  },
  {
   "cell_type": "code",
   "execution_count": 5,
   "metadata": {},
   "outputs": [
    {
     "data": {
      "text/plain": [
       "listing_id        0\n",
       "date              0\n",
       "reviewer_id       0\n",
       "reviewer_name     1\n",
       "comments         41\n",
       "dtype: int64"
      ]
     },
     "execution_count": 5,
     "metadata": {},
     "output_type": "execute_result"
    }
   ],
   "source": [
    "# Checking for null values\n",
    "df_reviews.isna().sum()"
   ]
  },
  {
   "cell_type": "markdown",
   "metadata": {},
   "source": [
    "### Initial Remarks\n",
    "\n",
    "We first note the following remarks\n",
    "- Some comments are in different languages \n",
    "\n",
    "- Some entries have no comments\n",
    "\n",
    "- There can be multiple comments in a listing\n"
   ]
  },
  {
   "cell_type": "markdown",
   "metadata": {},
   "source": [
    "### Processing Null Entries\n",
    "\n",
    "We need to handle some of the null comments before diving further into our analysis.\n",
    "\n",
    "Since comments that are NaN do not have any meaning, we will drop them from our dataset."
   ]
  },
  {
   "cell_type": "code",
   "execution_count": 6,
   "metadata": {},
   "outputs": [
    {
     "data": {
      "text/plain": [
       "listing_id       0\n",
       "date             0\n",
       "reviewer_id      0\n",
       "reviewer_name    1\n",
       "comments         0\n",
       "dtype: int64"
      ]
     },
     "execution_count": 6,
     "metadata": {},
     "output_type": "execute_result"
    }
   ],
   "source": [
    "# Drop NaN comments\n",
    "df_reviews = df_reviews.dropna(subset = ['comments']).reset_index(drop = True)\n",
    "df_reviews.isna().sum()"
   ]
  },
  {
   "cell_type": "markdown",
   "metadata": {},
   "source": [
    "For the lone NaN entry in `reviewer_name`, we will just fill the value with `unknown`"
   ]
  },
  {
   "cell_type": "code",
   "execution_count": 7,
   "metadata": {},
   "outputs": [
    {
     "data": {
      "text/plain": [
       "listing_id       0\n",
       "date             0\n",
       "reviewer_id      0\n",
       "reviewer_name    0\n",
       "comments         0\n",
       "dtype: int64"
      ]
     },
     "execution_count": 7,
     "metadata": {},
     "output_type": "execute_result"
    }
   ],
   "source": [
    "# Replace nan in reviewer_name with 'unknown'\n",
    "df_reviews.loc[df_reviews['reviewer_name'].isna(), 'reviewer_name'] = 'unknown'\n",
    "df_reviews.isna().sum()"
   ]
  },
  {
   "cell_type": "markdown",
   "metadata": {},
   "source": [
    "### Convert to Lowercase\n",
    "\n",
    "We first normalize our text by converting the comments into lowercase"
   ]
  },
  {
   "cell_type": "code",
   "execution_count": 8,
   "metadata": {},
   "outputs": [
    {
     "data": {
      "text/html": [
       "<div>\n",
       "<style scoped>\n",
       "    .dataframe tbody tr th:only-of-type {\n",
       "        vertical-align: middle;\n",
       "    }\n",
       "\n",
       "    .dataframe tbody tr th {\n",
       "        vertical-align: top;\n",
       "    }\n",
       "\n",
       "    .dataframe thead th {\n",
       "        text-align: right;\n",
       "    }\n",
       "</style>\n",
       "<table border=\"1\" class=\"dataframe\">\n",
       "  <thead>\n",
       "    <tr style=\"text-align: right;\">\n",
       "      <th></th>\n",
       "      <th>listing_id</th>\n",
       "      <th>date</th>\n",
       "      <th>reviewer_id</th>\n",
       "      <th>reviewer_name</th>\n",
       "      <th>comments</th>\n",
       "    </tr>\n",
       "  </thead>\n",
       "  <tbody>\n",
       "    <tr>\n",
       "      <th>0</th>\n",
       "      <td>18270</td>\n",
       "      <td>2011-03-17</td>\n",
       "      <td>184985</td>\n",
       "      <td>matthew</td>\n",
       "      <td>great place, great location, great host.</td>\n",
       "    </tr>\n",
       "    <tr>\n",
       "      <th>1</th>\n",
       "      <td>13188</td>\n",
       "      <td>2010-02-21</td>\n",
       "      <td>34595</td>\n",
       "      <td>rebecca</td>\n",
       "      <td>we had a wonderful time! the place is cozy, wa...</td>\n",
       "    </tr>\n",
       "    <tr>\n",
       "      <th>2</th>\n",
       "      <td>13188</td>\n",
       "      <td>2010-08-27</td>\n",
       "      <td>199181</td>\n",
       "      <td>lillian</td>\n",
       "      <td>what a fabulous home away from home!  the apar...</td>\n",
       "    </tr>\n",
       "    <tr>\n",
       "      <th>3</th>\n",
       "      <td>18270</td>\n",
       "      <td>2011-04-06</td>\n",
       "      <td>99094</td>\n",
       "      <td>jessica</td>\n",
       "      <td>i had a lovely and  comfortable stay at ran's....</td>\n",
       "    </tr>\n",
       "    <tr>\n",
       "      <th>4</th>\n",
       "      <td>18270</td>\n",
       "      <td>2011-05-02</td>\n",
       "      <td>434670</td>\n",
       "      <td>catherine</td>\n",
       "      <td>nice room, great location and friendly host!</td>\n",
       "    </tr>\n",
       "    <tr>\n",
       "      <th>...</th>\n",
       "      <td>...</td>\n",
       "      <td>...</td>\n",
       "      <td>...</td>\n",
       "      <td>...</td>\n",
       "      <td>...</td>\n",
       "    </tr>\n",
       "    <tr>\n",
       "      <th>272555</th>\n",
       "      <td>1167658394866031187</td>\n",
       "      <td>2024-06-01</td>\n",
       "      <td>75090412</td>\n",
       "      <td>georgina</td>\n",
       "      <td>loved the place. easy to check-in, driana was ...</td>\n",
       "    </tr>\n",
       "    <tr>\n",
       "      <th>272556</th>\n",
       "      <td>1167658394866031187</td>\n",
       "      <td>2024-06-08</td>\n",
       "      <td>115858985</td>\n",
       "      <td>jason</td>\n",
       "      <td>driana and her husband were the ideal hosts!  ...</td>\n",
       "    </tr>\n",
       "    <tr>\n",
       "      <th>272557</th>\n",
       "      <td>1168245100183046449</td>\n",
       "      <td>2024-06-11</td>\n",
       "      <td>62180956</td>\n",
       "      <td>nathaniel</td>\n",
       "      <td>javier was extremely hospitable to my family. ...</td>\n",
       "    </tr>\n",
       "    <tr>\n",
       "      <th>272558</th>\n",
       "      <td>1168449186334658361</td>\n",
       "      <td>2024-06-09</td>\n",
       "      <td>42273592</td>\n",
       "      <td>agi</td>\n",
       "      <td>wir waren 2 nächte in das haus. wir haben uns ...</td>\n",
       "    </tr>\n",
       "    <tr>\n",
       "      <th>272559</th>\n",
       "      <td>1168810754381060304</td>\n",
       "      <td>2024-06-08</td>\n",
       "      <td>110570876</td>\n",
       "      <td>moon</td>\n",
       "      <td>i recently had the pleasure of staying at geni...</td>\n",
       "    </tr>\n",
       "  </tbody>\n",
       "</table>\n",
       "<p>272560 rows × 5 columns</p>\n",
       "</div>"
      ],
      "text/plain": [
       "                 listing_id  ...                                           comments\n",
       "0                     18270  ...           great place, great location, great host.\n",
       "1                     13188  ...  we had a wonderful time! the place is cozy, wa...\n",
       "2                     13188  ...  what a fabulous home away from home!  the apar...\n",
       "3                     18270  ...  i had a lovely and  comfortable stay at ran's....\n",
       "4                     18270  ...      nice room, great location and friendly host! \n",
       "...                     ...  ...                                                ...\n",
       "272555  1167658394866031187  ...  loved the place. easy to check-in, driana was ...\n",
       "272556  1167658394866031187  ...  driana and her husband were the ideal hosts!  ...\n",
       "272557  1168245100183046449  ...  javier was extremely hospitable to my family. ...\n",
       "272558  1168449186334658361  ...  wir waren 2 nächte in das haus. wir haben uns ...\n",
       "272559  1168810754381060304  ...  i recently had the pleasure of staying at geni...\n",
       "\n",
       "[272560 rows x 5 columns]"
      ]
     },
     "execution_count": 8,
     "metadata": {},
     "output_type": "execute_result"
    }
   ],
   "source": [
    "# Convert to lowercase\n",
    "df_reviews.loc[:, 'comments'] = df_reviews['comments'].str.lower()\n",
    "df_reviews.loc[:, 'reviewer_name'] = df_reviews['reviewer_name'].str.lower()\n",
    "df_reviews"
   ]
  },
  {
   "cell_type": "markdown",
   "metadata": {},
   "source": [
    "### Translating Comments from Different Languages\n",
    "\n",
    "We note that some of the comments are of different languages. Since these comments can have significant meaning, we want to keep as much information as possible in our dataset.\n",
    "\n",
    "What we could do to extract information from these comments is to translate the comments to English using a language model, noting that some information can be lossed or not translated properly.\n",
    "\n",
    "We can do so via some of the Huggingface models, which can be imported via the `transformers` library"
   ]
  },
  {
   "cell_type": "code",
   "execution_count": 62,
   "metadata": {},
   "outputs": [],
   "source": [
    "# # Translator class\n",
    "# class Translator:\n",
    "\n",
    "#     def __init__(self) -> None:\n",
    "#         self.lang_detector = LanguageDetectorBuilder.from_all_spoken_languages().build()\n",
    "#         self.lang_translator = GoogleTranslator(source = 'auto', target = 'en')\n",
    "\n",
    "#     def translate(self, s):\n",
    "#         lang = self.lang_detector.detect_language_of(s)\n",
    "#         if not lang or lang == Language.ENGLISH: return s\n",
    "#         translation = self.lang_translator.translate(s)\n",
    "#         return translation\n",
    "    \n",
    "#     def translate_batch(self, lst):\n",
    "#         return [self.translate(item) for item in lst]"
   ]
  },
  {
   "cell_type": "markdown",
   "metadata": {},
   "source": [
    "### Handling Emoticons\n",
    "\n",
    "We note that some of our comments have emoticons such as `:-)` and `:)`. \n",
    "\n",
    "Since these icons will be removed when we start removing punctuations from the list, we need to find a way to preserve the meanings of these emoticons in the text.\n",
    "\n",
    "One way to do that is to translate the emoticon into plain text, and perform sentiment analysis on that"
   ]
  },
  {
   "cell_type": "code",
   "execution_count": 9,
   "metadata": {},
   "outputs": [],
   "source": [
    "# Replace emoticons with meaning\n",
    "def replace_emoticons(s):\n",
    "    emot_obj = emot.core.emot()\n",
    "    res = emot_obj.emoticons(s)\n",
    "    if res['flag']:\n",
    "        for emoticon, meaning in zip(res['value'], res['mean']):\n",
    "            new = s.replace(emoticon, meaning.lower())\n",
    "        return new\n",
    "    return s"
   ]
  },
  {
   "cell_type": "code",
   "execution_count": 13,
   "metadata": {},
   "outputs": [],
   "source": [
    "[replace_emoticons(s) for s in df_reviews['comments'].tolist()]"
   ]
  },
  {
   "cell_type": "code",
   "execution_count": 91,
   "metadata": {},
   "outputs": [
    {
     "ename": "",
     "evalue": "",
     "output_type": "error",
     "traceback": [
      "\u001b[1;31mCannot execute code, session has been disposed. Please try restarting the Kernel."
     ]
    },
    {
     "ename": "",
     "evalue": "",
     "output_type": "error",
     "traceback": [
      "\u001b[1;31mCannot execute code, session has been disposed. Please try restarting the Kernel. \n",
      "\u001b[1;31mView Jupyter <a href='command:jupyter.viewOutput'>log</a> for further details."
     ]
    }
   ],
   "source": [
    "df_reviews.loc[:, 'comments'] = df_reviews['comments'].apply(replace_emoticons)"
   ]
  },
  {
   "cell_type": "markdown",
   "metadata": {},
   "source": [
    "### Remove Punctuations \n",
    "\n",
    "We will remove all \"neutral\" punctuations in the comments, except for the following\n",
    "- `'` which represents a shorthand for some stopwords\n",
    "\n",
    "- `-` which connects different terms together\n",
    "\n",
    "We note that for the exceptions above, the punctuations are between letters and so we can also remove instances that are not enclosed inbetween two letters as well"
   ]
  },
  {
   "cell_type": "code",
   "execution_count": 60,
   "metadata": {},
   "outputs": [
    {
     "data": {
      "text/html": [
       "<div>\n",
       "<style scoped>\n",
       "    .dataframe tbody tr th:only-of-type {\n",
       "        vertical-align: middle;\n",
       "    }\n",
       "\n",
       "    .dataframe tbody tr th {\n",
       "        vertical-align: top;\n",
       "    }\n",
       "\n",
       "    .dataframe thead th {\n",
       "        text-align: right;\n",
       "    }\n",
       "</style>\n",
       "<table border=\"1\" class=\"dataframe\">\n",
       "  <thead>\n",
       "    <tr style=\"text-align: right;\">\n",
       "      <th></th>\n",
       "      <th>listing_id</th>\n",
       "      <th>date</th>\n",
       "      <th>reviewer_id</th>\n",
       "      <th>reviewer_name</th>\n",
       "      <th>comments</th>\n",
       "    </tr>\n",
       "  </thead>\n",
       "  <tbody>\n",
       "    <tr>\n",
       "      <th>0</th>\n",
       "      <td>18270</td>\n",
       "      <td>2011-03-17</td>\n",
       "      <td>184985</td>\n",
       "      <td>matthew</td>\n",
       "      <td>great place  great location  great host</td>\n",
       "    </tr>\n",
       "    <tr>\n",
       "      <th>1</th>\n",
       "      <td>13188</td>\n",
       "      <td>2010-02-21</td>\n",
       "      <td>34595</td>\n",
       "      <td>rebecca</td>\n",
       "      <td>we had a wonderful time  the place is cozy  wa...</td>\n",
       "    </tr>\n",
       "    <tr>\n",
       "      <th>2</th>\n",
       "      <td>13188</td>\n",
       "      <td>2010-08-27</td>\n",
       "      <td>199181</td>\n",
       "      <td>lillian</td>\n",
       "      <td>what a fabulous home away from home   the apar...</td>\n",
       "    </tr>\n",
       "    <tr>\n",
       "      <th>3</th>\n",
       "      <td>18270</td>\n",
       "      <td>2011-04-06</td>\n",
       "      <td>99094</td>\n",
       "      <td>jessica</td>\n",
       "      <td>i had a lovely and  comfortable stay at ran's ...</td>\n",
       "    </tr>\n",
       "    <tr>\n",
       "      <th>4</th>\n",
       "      <td>18270</td>\n",
       "      <td>2011-05-02</td>\n",
       "      <td>434670</td>\n",
       "      <td>catherine</td>\n",
       "      <td>nice room  great location and friendly host</td>\n",
       "    </tr>\n",
       "    <tr>\n",
       "      <th>...</th>\n",
       "      <td>...</td>\n",
       "      <td>...</td>\n",
       "      <td>...</td>\n",
       "      <td>...</td>\n",
       "      <td>...</td>\n",
       "    </tr>\n",
       "    <tr>\n",
       "      <th>272555</th>\n",
       "      <td>1167658394866031187</td>\n",
       "      <td>2024-06-01</td>\n",
       "      <td>75090412</td>\n",
       "      <td>georgina</td>\n",
       "      <td>loved the place  easy to check-in  driana was ...</td>\n",
       "    </tr>\n",
       "    <tr>\n",
       "      <th>272556</th>\n",
       "      <td>1167658394866031187</td>\n",
       "      <td>2024-06-08</td>\n",
       "      <td>115858985</td>\n",
       "      <td>jason</td>\n",
       "      <td>driana and her husband were the ideal hosts   ...</td>\n",
       "    </tr>\n",
       "    <tr>\n",
       "      <th>272557</th>\n",
       "      <td>1168245100183046449</td>\n",
       "      <td>2024-06-11</td>\n",
       "      <td>62180956</td>\n",
       "      <td>nathaniel</td>\n",
       "      <td>javier was extremely hospitable to my family  ...</td>\n",
       "    </tr>\n",
       "    <tr>\n",
       "      <th>272558</th>\n",
       "      <td>1168449186334658361</td>\n",
       "      <td>2024-06-09</td>\n",
       "      <td>42273592</td>\n",
       "      <td>agi</td>\n",
       "      <td>wir waren 2 nächte in das haus  wir haben uns ...</td>\n",
       "    </tr>\n",
       "    <tr>\n",
       "      <th>272559</th>\n",
       "      <td>1168810754381060304</td>\n",
       "      <td>2024-06-08</td>\n",
       "      <td>110570876</td>\n",
       "      <td>moon</td>\n",
       "      <td>i recently had the pleasure of staying at geni...</td>\n",
       "    </tr>\n",
       "  </tbody>\n",
       "</table>\n",
       "<p>272560 rows × 5 columns</p>\n",
       "</div>"
      ],
      "text/plain": [
       "                 listing_id  ...                                           comments\n",
       "0                     18270  ...           great place  great location  great host \n",
       "1                     13188  ...  we had a wonderful time  the place is cozy  wa...\n",
       "2                     13188  ...  what a fabulous home away from home   the apar...\n",
       "3                     18270  ...  i had a lovely and  comfortable stay at ran's ...\n",
       "4                     18270  ...      nice room  great location and friendly host  \n",
       "...                     ...  ...                                                ...\n",
       "272555  1167658394866031187  ...  loved the place  easy to check-in  driana was ...\n",
       "272556  1167658394866031187  ...  driana and her husband were the ideal hosts   ...\n",
       "272557  1168245100183046449  ...  javier was extremely hospitable to my family  ...\n",
       "272558  1168449186334658361  ...  wir waren 2 nächte in das haus  wir haben uns ...\n",
       "272559  1168810754381060304  ...  i recently had the pleasure of staying at geni...\n",
       "\n",
       "[272560 rows x 5 columns]"
      ]
     },
     "execution_count": 60,
     "metadata": {},
     "output_type": "execute_result"
    }
   ],
   "source": [
    "# Remove punctuations\n",
    "df_reviews.loc[:, 'comments'] = df_reviews['comments'].str.replace(pat = r'[[!\"#$%&()*+,.\\/:;<=>?@[\\\\\\]^_`{|}~]', repl = ' ', regex = True)\n",
    "df_reviews.loc[:, 'comments'] = df_reviews['comments'].str.replace(pat = r\"(?<![a-zA-Z])[-']+|[-']+(?![a-zA-Z])\", repl = ' ', regex = True)\n",
    "df_reviews"
   ]
  },
  {
   "cell_type": "code",
   "execution_count": 64,
   "metadata": {},
   "outputs": [
    {
     "data": {
      "text/plain": [
       "213797     \n",
       "35275      \n",
       "124384     \n",
       "231809     \n",
       "128763     \n",
       "53199      \n",
       "69219      \n",
       "155278     \n",
       "232224     \n",
       "216260     \n",
       "67667      \n",
       "259638     \n",
       "150044     \n",
       "174123     \n",
       "102610     \n",
       "102606     \n",
       "271067     \n",
       "165829     \n",
       "165836     \n",
       "90203      \n",
       "Name: comments, dtype: object"
      ]
     },
     "execution_count": 64,
     "metadata": {},
     "output_type": "execute_result"
    }
   ],
   "source": [
    "df_reviews['comments'].sort_values(ascending = True)[:20]"
   ]
  },
  {
   "cell_type": "markdown",
   "metadata": {},
   "source": [
    "### Tokenize Comments\n",
    "\n",
    "To conduct sentiment analysis, we want to first tokenize the comments. \n",
    "\n",
    "Note that since a comment can contain multiple sentences, we want to analyze the sentiments sentence-wise, and so we will perform the following steps\n",
    "\n",
    "- Tokenize comments into different sentences\n",
    "\n",
    "- For each comments, tokenize a sentence into words"
   ]
  },
  {
   "cell_type": "code",
   "execution_count": null,
   "metadata": {},
   "outputs": [],
   "source": [
    "# Tokenize sentences\n",
    "df_reviews.loc[:, 'comments_tokenized'] = df_reviews['comments'].apply(word_tokenize)\n",
    "df_reviews['comments_tokenized']"
   ]
  },
  {
   "cell_type": "markdown",
   "metadata": {},
   "source": [
    "### Processing Host Names\n",
    "\n",
    "We note that the host names mentioned in the review do not have significant impact on the comments. \n",
    "\n",
    "Therefore, we will try to replace all instances of the host's name with `host` to reduce the dimension of our word space\n",
    "\n",
    "We can do so by\n",
    "\n",
    "- Taking the host name associated with `listing_id`\n",
    "\n",
    "- Search for host name in the comments and replace the name with `host`"
   ]
  },
  {
   "cell_type": "code",
   "execution_count": null,
   "metadata": {},
   "outputs": [],
   "source": [
    "df_reviews['comments'].sort_values()"
   ]
  },
  {
   "cell_type": "code",
   "execution_count": 15,
   "metadata": {},
   "outputs": [],
   "source": [
    "# # Merge host name to df_reviews by listing_id\n",
    "# df_listings[['listing_id',  'host_name']]\n",
    "# df_reviews = df_reviews.merge(df_listings[['listing_id', 'host_name']], on = 'listing_id', how = 'inner')\n",
    "# df_reviews\n",
    "\n",
    "# # Lowercase host_name and replace instance in comments with 'host'\n",
    "# df_reviews['host_name'] = df_reviews['host_name'].str.lower()\n",
    "# df_reviews['comments'] = df_reviews.apply(lambda row : str(row['comments']).replace(row['host_name'], 'host'), axis = 1)\n",
    "# df_reviews['comm']"
   ]
  },
  {
   "cell_type": "code",
   "execution_count": null,
   "metadata": {},
   "outputs": [],
   "source": [
    "df_reviews['comments'].sort_values()"
   ]
  },
  {
   "cell_type": "markdown",
   "metadata": {},
   "source": [
    "### Remove Stopwords\n",
    "\n",
    "We will next remove all of the stopwords from the comments"
   ]
  },
  {
   "cell_type": "code",
   "execution_count": null,
   "metadata": {},
   "outputs": [],
   "source": [
    "# Stopwords\n",
    "def remove_stopwords(tokens, stopwords):\n",
    "    removed = [t for t in tokens if t not in stopwords]\n",
    "    return removed\n",
    "\n",
    "stopwords_set = set(stopwords.words())\n",
    "stopwords_set.add(\"'s\")\n",
    "df_reviews.loc[:, 'comments_tokenized'] = df_reviews['comments_tokenized'].apply(remove_stopwords, stopwords = stopwords_set)\n",
    "df_reviews['comments_tokenized']"
   ]
  },
  {
   "cell_type": "markdown",
   "metadata": {},
   "source": [
    "### Join Tokens into Sentences\n",
    "\n",
    "Having done our required text preprocessing, we will join the tokens together to get a corpus for further analysis"
   ]
  },
  {
   "cell_type": "code",
   "execution_count": null,
   "metadata": {},
   "outputs": [],
   "source": [
    "# Join tokens\n",
    "\n",
    "def join_tokens(tokens):\n",
    "    return ' '.join(tokens)\n",
    "\n",
    "df_reviews['comments_cleaned'] = df_reviews['comments_tokenized'].apply(join_tokens)\n",
    "df_reviews['comments_cleaned']"
   ]
  },
  {
   "cell_type": "markdown",
   "metadata": {},
   "source": [
    "### Get Sentiments\n",
    "\n",
    "We can now perform sentiment analysis on the comments"
   ]
  },
  {
   "cell_type": "code",
   "execution_count": 104,
   "metadata": {},
   "outputs": [],
   "source": [
    "# sentiment function\n",
    "MODEL_NAME = 'cardiffnlp/twitter-roberta-base-sentiment-latest'\n",
    "\n",
    "def get_sentiment(text, model, config, tokenizer):\n",
    "    try:\n",
    "        encoded = tokenizer(text, return_tensors = 'pt', padding = True)\n",
    "        output = model(**encoded)\n",
    "        scores = softmax(output[0][0].detach().numpy())\n",
    "        return config.id2label[np.argmax(scores)]\n",
    "    except:\n",
    "        print(text)\n",
    "        return text\n",
    "\n",
    "def sentiment_analysis(series):\n",
    "\n",
    "    # Setting up configurations\n",
    "    model = AutoModelForSequenceClassification.from_pretrained(MODEL_NAME)\n",
    "    config = AutoConfig.from_pretrained(MODEL_NAME)\n",
    "    tokenizer = AutoTokenizer.from_pretrained(MODEL_NAME)\n",
    "    res = series.apply(get_sentiment, model = model, config = config, tokenizer = tokenizer)\n",
    "    return res"
   ]
  },
  {
   "cell_type": "code",
   "execution_count": null,
   "metadata": {},
   "outputs": [],
   "source": []
  },
  {
   "cell_type": "code",
   "execution_count": null,
   "metadata": {},
   "outputs": [],
   "source": [
    "sentiment_analysis(df_reviews['comments_cleaned'])"
   ]
  },
  {
   "cell_type": "code",
   "execution_count": null,
   "metadata": {},
   "outputs": [],
   "source": []
  }
 ],
 "metadata": {
  "kernelspec": {
   "display_name": ".venv",
   "language": "python",
   "name": "python3"
  },
  "language_info": {
   "codemirror_mode": {
    "name": "ipython",
    "version": 3
   },
   "file_extension": ".py",
   "mimetype": "text/x-python",
   "name": "python",
   "nbconvert_exporter": "python",
   "pygments_lexer": "ipython3",
   "version": "3.9.6"
  }
 },
 "nbformat": 4,
 "nbformat_minor": 2
}
